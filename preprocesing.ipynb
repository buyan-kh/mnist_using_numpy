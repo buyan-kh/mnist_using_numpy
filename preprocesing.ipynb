{
 "cells": [
  {
   "cell_type": "code",
   "execution_count": 20,
   "metadata": {},
   "outputs": [],
   "source": [
    "import numpy as np\n",
    "\n",
    "data = np.load('mnist.npz')\n",
    "X_train = data['x_train']\n",
    "y_train = data['y_train']\n",
    "X_test = data['x_test']\n",
    "y_test = data['y_test']"
   ]
  },
  {
   "cell_type": "code",
   "execution_count": 21,
   "metadata": {},
   "outputs": [
    {
     "name": "stdout",
     "output_type": "stream",
     "text": [
      "(60000, 28, 28)\n",
      "(60000,)\n",
      "(10000, 28, 28)\n",
      "(10000,)\n"
     ]
    }
   ],
   "source": [
    "print(X_train.shape)\n",
    "print(y_train.shape)\n",
    "print(X_test.shape)\n",
    "print(y_test.shape)"
   ]
  },
  {
   "cell_type": "code",
   "execution_count": 23,
   "metadata": {},
   "outputs": [],
   "source": [
    "X_train = X_train / 255.0\n",
    "X_test = X_test / 255.0\n",
    "\n",
    "X_train = X_train.reshape(X_train.shape[0], -1)\n",
    "X_test = X_test.reshape(X_test.shape[0], -1)\n",
    "\n",
    "def one_hot_encoding(y, num_classes=10):\n",
    "    one_hot = np.zeros((y.size, num_classes))\n",
    "    one_hot[np.arange(y.size), y] = 1\n",
    "    return one_hot\n",
    "\n",
    "y_train_encoded = one_hot_encoding(y_train)\n",
    "y_test_encoded = one_hot_encoding(y_test)"
   ]
  },
  {
   "cell_type": "code",
   "execution_count": 24,
   "metadata": {},
   "outputs": [],
   "source": [
    "def initialize_parameters(input_size, hidden_size, output_size):\n",
    "    np.random.seed(42)\n",
    "\n",
    "    W1 = np.random.randn(hidden_size, input_size) * 0.01\n",
    "    b1 = np.zeros((hidden_size, 1)) # zero bias\n",
    "\n",
    "    W2 = np.random.randn(output_size, hidden_size) * 0.01\n",
    "    b2 = np.zeros((output_size, 1))\n",
    "    \n",
    "    return W1, b1, W2, b2\n",
    "\n",
    "input_size = 784\n",
    "hidden_size = 128\n",
    "output_size = 10\n",
    "\n",
    "W1, b1, W2, b2 = initialize_parameters(input_size, hidden_size, output_size)"
   ]
  },
  {
   "cell_type": "code",
   "execution_count": 13,
   "metadata": {},
   "outputs": [],
   "source": [
    "# hidden layer z1 = w1 @ x + b1\n",
    "# activation 1 a1 = relu(z1)\n",
    "# output layer z2 = w2 @ a1 + b2\n",
    "# activation 2 = a2 = softmax(z2)"
   ]
  },
  {
   "cell_type": "code",
   "execution_count": 25,
   "metadata": {},
   "outputs": [],
   "source": [
    "def relu(Z):\n",
    "    return np.maximum(0, Z)\n",
    "\n",
    "def softmax(Z):\n",
    "    exp_Z = np.exp(Z - np.max(Z, axis=0, keepdims=True))\n",
    "    return exp_Z / np.sum(exp_Z, axis=0, keepdims=True)"
   ]
  },
  {
   "cell_type": "code",
   "execution_count": 26,
   "metadata": {},
   "outputs": [],
   "source": [
    "def forward_pass(X, W1, b1, W2, b2):\n",
    "    Z1 = np.dot(W1, X) + b1\n",
    "    A1 = relu(Z1)\n",
    "\n",
    "    Z2 = np.dot(W2, A1) + b2\n",
    "    A2 = softmax(Z2)\n",
    "\n",
    "    return Z1, A1, Z2, A2"
   ]
  },
  {
   "cell_type": "code",
   "execution_count": 27,
   "metadata": {},
   "outputs": [],
   "source": [
    "X_train = X_train.T # (784, 60000)\n",
    "x_test = X_test.T # (784, 10000)\n",
    "\n",
    "# Transpose (features, samples)"
   ]
  },
  {
   "cell_type": "code",
   "execution_count": 29,
   "metadata": {},
   "outputs": [
    {
     "name": "stdout",
     "output_type": "stream",
     "text": [
      "(10, 60000)\n"
     ]
    }
   ],
   "source": [
    "Z1, A1, Z2, A2 = forward_pass(X_train, W1, b1, W2, b2)\n",
    "print(A2.shape)"
   ]
  },
  {
   "cell_type": "code",
   "execution_count": 31,
   "metadata": {},
   "outputs": [
    {
     "name": "stdout",
     "output_type": "stream",
     "text": [
      " initial loss: 2.3025858956333844\n"
     ]
    }
   ],
   "source": [
    "def compute_loss(A2, Y):\n",
    "    m = Y.shape[1]\n",
    "    log_probs = np.log(A2 + 1e-8) # 1e-8 to prevent log(0)\n",
    "    loss = -np.sum(Y * log_probs) / m\n",
    "    return loss\n",
    "\n",
    "loss = compute_loss(A2, y_train_encoded.T)\n",
    "print(f\" initial loss: {loss}\")"
   ]
  },
  {
   "cell_type": "code",
   "execution_count": 33,
   "metadata": {},
   "outputs": [],
   "source": [
    "def relu_derivative(Z):\n",
    "    return Z > 0"
   ]
  },
  {
   "cell_type": "code",
   "execution_count": 34,
   "metadata": {},
   "outputs": [],
   "source": [
    "def backward_pass(X, Y, Z1, A1, Z2, A2, W2):\n",
    "    m = X.shape[1]\n",
    "\n",
    "    dZ2 = A2 - Y\n",
    "    dW2 = (1 / m) * np.dot(dZ2, A1.T)\n",
    "    db2 = (1 / m) * np.sum(dZ2, axis=1, keepdims=True)\n",
    "\n",
    "    dA1 = np.dot(W2.T, dZ2)\n",
    "    dZ1 = dA1 * relu_derivative(Z1)\n",
    "    dW1 = (1 / m) * np.dot(dZ1, X.T)\n",
    "    db1 = (1 / m) * np.sum(dZ1, axis=1, keepdims=True)\n",
    "\n",
    "    return dW1, db1, dW2, db2"
   ]
  },
  {
   "cell_type": "code",
   "execution_count": 35,
   "metadata": {},
   "outputs": [],
   "source": [
    "def update_parameters(W1, b1, W2, b2, dW1, db1, dW2, db2, learning_rate):\n",
    "    W1 = W1 - learning_rate * dW1\n",
    "    b1 = b1 - learning_rate * db1\n",
    "    W2 = W2 - learning_rate * dW2\n",
    "    b2 = b2 - learning_rate * db2\n",
    "    return W1, b1, W2, b2"
   ]
  },
  {
   "cell_type": "code",
   "execution_count": 36,
   "metadata": {},
   "outputs": [
    {
     "name": "stdout",
     "output_type": "stream",
     "text": [
      "Epoch 1/20, Loss: 2.3025858956333844\n",
      "Epoch 2/20, Loss: 2.3025827693237866\n",
      "Epoch 3/20, Loss: 2.3025796510367984\n",
      "Epoch 4/20, Loss: 2.302576540941211\n",
      "Epoch 5/20, Loss: 2.3025734395144535\n",
      "Epoch 6/20, Loss: 2.302570346411151\n",
      "Epoch 7/20, Loss: 2.302567261144654\n",
      "Epoch 8/20, Loss: 2.302564183857363\n",
      "Epoch 9/20, Loss: 2.3025611146624985\n",
      "Epoch 10/20, Loss: 2.3025580546910347\n",
      "Epoch 11/20, Loss: 2.302555003787094\n",
      "Epoch 12/20, Loss: 2.302551962014681\n",
      "Epoch 13/20, Loss: 2.302548928833024\n",
      "Epoch 14/20, Loss: 2.3025459045290613\n",
      "Epoch 15/20, Loss: 2.3025428890039525\n",
      "Epoch 16/20, Loss: 2.302539881850899\n",
      "Epoch 17/20, Loss: 2.302536883268233\n",
      "Epoch 18/20, Loss: 2.302533893590313\n",
      "Epoch 19/20, Loss: 2.302530912521377\n",
      "Epoch 20/20, Loss: 2.3025279402592718\n"
     ]
    }
   ],
   "source": [
    "# training\n",
    "num_epochs = 20\n",
    "learning_rate = 0.01\n",
    "for epoch in range(num_epochs):\n",
    "    Z1, A1, Z2, A2 = forward_pass(X_train, W1, b1, W2, b2)\n",
    "\n",
    "    loss = compute_loss(A2, y_train_encoded.T)\n",
    "\n",
    "    dW1, db1, dW2, db2 = backward_pass(X_train, y_train_encoded.T, Z1, A1, Z2, A2, W2)\n",
    "\n",
    "    W1, b1, W2, b2 = update_parameters(W1, b1, W2, b2, dW1, db1, dW2, db2, learning_rate)\n",
    "\n",
    "    if epoch % 1 == 0:\n",
    "        print(f\"Epoch {epoch+1}/{num_epochs}, Loss: {loss}\")"
   ]
  },
  {
   "cell_type": "code",
   "execution_count": null,
   "metadata": {},
   "outputs": [],
   "source": []
  }
 ],
 "metadata": {
  "kernelspec": {
   "display_name": "Python 3",
   "language": "python",
   "name": "python3"
  },
  "language_info": {
   "codemirror_mode": {
    "name": "ipython",
    "version": 3
   },
   "file_extension": ".py",
   "mimetype": "text/x-python",
   "name": "python",
   "nbconvert_exporter": "python",
   "pygments_lexer": "ipython3",
   "version": "3.12.3"
  }
 },
 "nbformat": 4,
 "nbformat_minor": 2
}
